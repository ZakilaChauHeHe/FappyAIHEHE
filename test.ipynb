{
 "cells": [
  {
   "cell_type": "code",
   "execution_count": 1,
   "metadata": {},
   "outputs": [
    {
     "name": "stdout",
     "output_type": "stream",
     "text": [
      "pygame 2.6.0 (SDL 2.28.4, Python 3.11.9)\n",
      "Hello from the pygame community. https://www.pygame.org/contribute.html\n"
     ]
    },
    {
     "ename": "KeyboardInterrupt",
     "evalue": "",
     "output_type": "error",
     "traceback": [
      "\u001b[31m---------------------------------------------------------------------------\u001b[39m",
      "\u001b[31mKeyboardInterrupt\u001b[39m                         Traceback (most recent call last)",
      "\u001b[36mCell\u001b[39m\u001b[36m \u001b[39m\u001b[32mIn[1]\u001b[39m\u001b[32m, line 2\u001b[39m\n\u001b[32m      1\u001b[39m \u001b[38;5;28;01mimport\u001b[39;00m\u001b[38;5;250m \u001b[39m\u001b[34;01mplay\u001b[39;00m\n\u001b[32m----> \u001b[39m\u001b[32m2\u001b[39m \u001b[43mplay\u001b[49m\u001b[43m.\u001b[49m\u001b[43mrun\u001b[49m\u001b[43m(\u001b[49m\u001b[43m)\u001b[49m\n",
      "\u001b[36mFile \u001b[39m\u001b[32md:\\My shit\\CODExNiuga\\FlappyAi\\play.py:22\u001b[39m, in \u001b[36mrun\u001b[39m\u001b[34m()\u001b[39m\n\u001b[32m     20\u001b[39m             \u001b[38;5;28;01mif\u001b[39;00m gameover:\n\u001b[32m     21\u001b[39m                 game.reset_game()\n\u001b[32m---> \u001b[39m\u001b[32m22\u001b[39m state, reward, gameover = \u001b[43mgame\u001b[49m\u001b[43m.\u001b[49m\u001b[43mstep\u001b[49m\u001b[43m(\u001b[49m\u001b[43maction\u001b[49m\u001b[43m)\u001b[49m\n\u001b[32m     23\u001b[39m game.render()\n",
      "\u001b[36mFile \u001b[39m\u001b[32md:\\My shit\\CODExNiuga\\FlappyAi\\game.py:146\u001b[39m, in \u001b[36mGame.step\u001b[39m\u001b[34m(self, action)\u001b[39m\n\u001b[32m    143\u001b[39m             pipe.passed = \u001b[38;5;28;01mTrue\u001b[39;00m\n\u001b[32m    145\u001b[39m \u001b[38;5;66;03m# Update the display\u001b[39;00m\n\u001b[32m--> \u001b[39m\u001b[32m146\u001b[39m \u001b[43mclock\u001b[49m\u001b[43m.\u001b[49m\u001b[43mtick\u001b[49m\u001b[43m(\u001b[49m\u001b[43mFPS\u001b[49m\u001b[43m)\u001b[49m\n\u001b[32m    147\u001b[39m \u001b[38;5;66;03m# Bird Hit my pipe --\u001b[39;00m\n\u001b[32m    148\u001b[39m \u001b[38;5;66;03m# Bird Surivived +\u001b[39;00m\n\u001b[32m    149\u001b[39m \u001b[38;5;66;03m# Bird PAssed Pipe +\u001b[39;00m\n\u001b[32m    150\u001b[39m \u001b[38;5;66;03m# Bird Hit Bottom -\u001b[39;00m\n\u001b[32m    152\u001b[39m \u001b[38;5;28;01mreturn\u001b[39;00m \u001b[38;5;28mself\u001b[39m._getstate(), reward, \u001b[38;5;28mself\u001b[39m.game_over\n",
      "\u001b[31mKeyboardInterrupt\u001b[39m: "
     ]
    }
   ],
   "source": [
    "import play\n",
    "play.run()"
   ]
  },
  {
   "cell_type": "code",
   "execution_count": 5,
   "metadata": {},
   "outputs": [
    {
     "ename": "AttributeError",
     "evalue": "'dict' object has no attribute 'gap_y'",
     "output_type": "error",
     "traceback": [
      "\u001b[31m---------------------------------------------------------------------------\u001b[39m",
      "\u001b[31mAttributeError\u001b[39m                            Traceback (most recent call last)",
      "\u001b[36mCell\u001b[39m\u001b[36m \u001b[39m\u001b[32mIn[5]\u001b[39m\u001b[32m, line 2\u001b[39m\n\u001b[32m      1\u001b[39m next_pipe = {}\n\u001b[32m----> \u001b[39m\u001b[32m2\u001b[39m \u001b[43mnext_pipe\u001b[49m\u001b[43m.\u001b[49m\u001b[43mgap_y\u001b[49m = \u001b[32m5\u001b[39m\n\u001b[32m      3\u001b[39m next_pipe.gap_y\n",
      "\u001b[31mAttributeError\u001b[39m: 'dict' object has no attribute 'gap_y'"
     ]
    }
   ],
   "source": [
    "next_pipe = {}\n",
    "next_pipe.gap_y = 5\n",
    "\n",
    "next_pipe.gap_y"
   ]
  }
 ],
 "metadata": {
  "kernelspec": {
   "display_name": "Python 3",
   "language": "python",
   "name": "python3"
  },
  "language_info": {
   "codemirror_mode": {
    "name": "ipython",
    "version": 3
   },
   "file_extension": ".py",
   "mimetype": "text/x-python",
   "name": "python",
   "nbconvert_exporter": "python",
   "pygments_lexer": "ipython3",
   "version": "3.11.9"
  }
 },
 "nbformat": 4,
 "nbformat_minor": 2
}
